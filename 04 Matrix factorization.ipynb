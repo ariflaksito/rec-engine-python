{
 "cells": [
  {
   "cell_type": "markdown",
   "metadata": {},
   "source": [
    "# Matrix Factorization and Validating Your Predictions\n",
    "\n",
    "Understand how the sparsity of real-world datasets can impact your recommendations. Leverage the power of matrix factorization to deal with this sparsity. Explore the value of latent features and use them to better understand your data. Finally, put the models you’ve discovered to the test by learning how to validate each of the approaches you’ve learned."
   ]
  },
  {
   "cell_type": "code",
   "execution_count": 150,
   "metadata": {},
   "outputs": [],
   "source": [
    "import pandas as pd\n",
    "\n",
    "ratings = pd.read_csv('user_ratings.csv')\n",
    "movies = pd.read_csv('movies.csv')"
   ]
  },
  {
   "cell_type": "code",
   "execution_count": 151,
   "metadata": {},
   "outputs": [],
   "source": [
    "ratings = ratings.iloc[:, :3]"
   ]
  },
  {
   "cell_type": "code",
   "execution_count": 152,
   "metadata": {},
   "outputs": [],
   "source": [
    "movies_ratings_df = pd.merge(ratings, movies, how=\"inner\", on=[\"movieId\"])\n",
    "user_ratings = movies_ratings_df[['userId','rating','title']]\n",
    "\n",
    "user_ratings_df = user_ratings.pivot_table(index='userId', columns='title', values='rating')"
   ]
  },
  {
   "cell_type": "code",
   "execution_count": 153,
   "metadata": {},
   "outputs": [
    {
     "data": {
      "text/plain": [
       "(610, 9719)"
      ]
     },
     "execution_count": 153,
     "metadata": {},
     "output_type": "execute_result"
    }
   ],
   "source": [
    "user_ratings_df.shape"
   ]
  },
  {
   "cell_type": "markdown",
   "metadata": {},
   "source": [
    "## Matrix sparsity\n",
    "\n",
    "A common challenge with real-world ratings data is that most users will not have rated most items, and most items will only have been rated by a small number of users. This results in a very empty or sparse DataFrame.\n",
    "\n",
    "In this exercise, you will calculate how sparse the movie_lens ratings data is by counting the number of occupied cells and compare it to the size of the full DataFrame. The DataFrame user_ratings_df that you have used in previous exercises, containing a row per user and a column per movie, has been loaded for you."
   ]
  },
  {
   "cell_type": "code",
   "execution_count": 154,
   "metadata": {},
   "outputs": [
    {
     "name": "stdout",
     "output_type": "stream",
     "text": [
      "0.9829922460483859\n"
     ]
    }
   ],
   "source": [
    "# Count the occupied cells\n",
    "sparsity_count = user_ratings_df.isnull().values.sum()\n",
    "\n",
    "# Count all cells\n",
    "full_count = user_ratings_df.size\n",
    "\n",
    "# Find the sparsity of the DataFrame\n",
    "sparsity = sparsity_count / full_count\n",
    "print(sparsity)"
   ]
  },
  {
   "cell_type": "markdown",
   "metadata": {},
   "source": [
    "## Limited data in your rows\n",
    "\n",
    "This data sparsity can cause an issue when using techniques like K-nearest neighbors as discussed in the last chapter. KNN needs to find the k most similar users that have rated an item, but if only less than or equal to k users have given an item the rating, all ratings will be the \"most similar\".\n",
    "\n",
    "In this exercise, you will count how often each movie in the user_ratings_df DataFrame has been given a rating, and then see how many have only one or two ratings."
   ]
  },
  {
   "cell_type": "code",
   "execution_count": 155,
   "metadata": {},
   "outputs": [
    {
     "name": "stdout",
     "output_type": "stream",
     "text": [
      "title\n",
      "'71 (2014)                                    1\n",
      "'Hellboy': The Seeds of Creation (2004)       1\n",
      "'Round Midnight (1986)                        2\n",
      "'Salem's Lot (2004)                           1\n",
      "'Til There Was You (1997)                     2\n",
      "                                             ..\n",
      "eXistenZ (1999)                              22\n",
      "xXx (2002)                                   24\n",
      "xXx: State of the Union (2005)                5\n",
      "¡Three Amigos! (1986)                        26\n",
      "À nous la liberté (Freedom for Us) (1931)     1\n",
      "Length: 9719, dtype: int64\n"
     ]
    }
   ],
   "source": [
    "# Count the occupied cells per column\n",
    "occupied_count = user_ratings_df.notnull().sum()\n",
    "print(occupied_count)"
   ]
  },
  {
   "cell_type": "code",
   "execution_count": 156,
   "metadata": {},
   "outputs": [
    {
     "name": "stdout",
     "output_type": "stream",
     "text": [
      "title\n",
      "'71 (2014)                                                                          1\n",
      "Latter Days (2003)                                                                  1\n",
      "Late Shift, The (1996)                                                              1\n",
      "Late Night with Conan O'Brien: The Best of Triumph the Insult Comic Dog (2004)      1\n",
      "Late Night Shopping (2001)                                                          1\n",
      "                                                                                 ... \n",
      "Matrix, The (1999)                                                                278\n",
      "Silence of the Lambs, The (1991)                                                  279\n",
      "Pulp Fiction (1994)                                                               307\n",
      "Shawshank Redemption, The (1994)                                                  317\n",
      "Forrest Gump (1994)                                                               329\n",
      "Length: 9719, dtype: int64\n"
     ]
    }
   ],
   "source": [
    "# Sort the resulting series from low to high\n",
    "sorted_occupied_count = occupied_count.sort_values()\n",
    "print(sorted_occupied_count)"
   ]
  },
  {
   "cell_type": "code",
   "execution_count": 157,
   "metadata": {},
   "outputs": [
    {
     "data": {
      "image/png": "[encoded data removed]",
      "text/plain": [
       "<Figure size 432x288 with 1 Axes>"
      ]
     },
     "metadata": {
      "needs_background": "light"
     },
     "output_type": "display_data"
    }
   ],
   "source": [
    "# Plot a histogram of the values in sorted_occupied_count\n",
    "sorted_occupied_count.hist()\n",
    "\n",
    "import matplotlib.pyplot as plt\n",
    "plt.show()"
   ]
  },
  {
   "cell_type": "markdown",
   "metadata": {},
   "source": [
    "## Identifying latent features\n",
    "\n",
    "Print original_df and user_matrix using the console. The user_matrix is one of the factors of the original_df. Based on the values in the first column of the user_matrix, what do you think the latent feature may be summarizing?\n",
    "\n",
    "Note the first row of user_matrix corresponds to User 1, the second row to User_2, and so on. Remember that latent features tend to represent underlying trends in the data and give items with these underlying trends similar scores."
   ]
  },
  {
   "cell_type": "code",
   "execution_count": 158,
   "metadata": {},
   "outputs": [],
   "source": [
    "original_df = pd.DataFrame({'user_1':[5.0,4.0,2.0,1.0],\n",
    "                            'user_2':[2.0,1.0,4.0,5.0],\n",
    "                            'user_3':[1.0,3.0,5.0,4.0],\n",
    "                            'user_4':[4.0,5.0,1.0,2.0],\n",
    "                            'user_5':[1.0,1.0,5.0,5.0]})\n",
    "original_df = original_df.T"
   ]
  },
  {
   "cell_type": "code",
   "execution_count": 159,
   "metadata": {},
   "outputs": [],
   "source": [
    "original_df.columns = ['Alien','Scream','Love Actually','The Notebook']"
   ]
  },
  {
   "cell_type": "code",
   "execution_count": 160,
   "metadata": {},
   "outputs": [
    {
     "data": {
      "text/html": [
       "<div>\n",
       "<style scoped>\n",
       "    .dataframe tbody tr th:only-of-type {\n",
       "        vertical-align: middle;\n",
       "    }\n",
       "\n",
       "    .dataframe tbody tr th {\n",
       "        vertical-align: top;\n",
       "    }\n",
       "\n",
       "    .dataframe thead th {\n",
       "        text-align: right;\n",
       "    }\n",
       "</style>\n",
       "<table border=\"1\" class=\"dataframe\">\n",
       "  <thead>\n",
       "    <tr style=\"text-align: right;\">\n",
       "      <th></th>\n",
       "      <th>Alien</th>\n",
       "      <th>Scream</th>\n",
       "      <th>Love Actually</th>\n",
       "      <th>The Notebook</th>\n",
       "    </tr>\n",
       "  </thead>\n",
       "  <tbody>\n",
       "    <tr>\n",
       "      <th>user_1</th>\n",
       "      <td>5.0</td>\n",
       "      <td>4.0</td>\n",
       "      <td>2.0</td>\n",
       "      <td>1.0</td>\n",
       "    </tr>\n",
       "    <tr>\n",
       "      <th>user_2</th>\n",
       "      <td>2.0</td>\n",
       "      <td>1.0</td>\n",
       "      <td>4.0</td>\n",
       "      <td>5.0</td>\n",
       "    </tr>\n",
       "    <tr>\n",
       "      <th>user_3</th>\n",
       "      <td>1.0</td>\n",
       "      <td>3.0</td>\n",
       "      <td>5.0</td>\n",
       "      <td>4.0</td>\n",
       "    </tr>\n",
       "    <tr>\n",
       "      <th>user_4</th>\n",
       "      <td>4.0</td>\n",
       "      <td>5.0</td>\n",
       "      <td>1.0</td>\n",
       "      <td>2.0</td>\n",
       "    </tr>\n",
       "    <tr>\n",
       "      <th>user_5</th>\n",
       "      <td>1.0</td>\n",
       "      <td>1.0</td>\n",
       "      <td>5.0</td>\n",
       "      <td>5.0</td>\n",
       "    </tr>\n",
       "  </tbody>\n",
       "</table>\n",
       "</div>"
      ],
      "text/plain": [
       "        Alien  Scream  Love Actually  The Notebook\n",
       "user_1    5.0     4.0            2.0           1.0\n",
       "user_2    2.0     1.0            4.0           5.0\n",
       "user_3    1.0     3.0            5.0           4.0\n",
       "user_4    4.0     5.0            1.0           2.0\n",
       "user_5    1.0     1.0            5.0           5.0"
      ]
     },
     "execution_count": 160,
     "metadata": {},
     "output_type": "execute_result"
    }
   ],
   "source": [
    "original_df"
   ]
  },
  {
   "cell_type": "code",
   "execution_count": 161,
   "metadata": {},
   "outputs": [],
   "source": [
    "user_matrix = ([[-3.9202913 ,  5.43628339],\n",
    "       [ 2.01738539,  6.37262296],\n",
    "       [ 1.46328822,  6.84850675],\n",
    "       [-3.88683688,  5.47272837],\n",
    "       [ 3.00873893,  6.54960159]])"
   ]
  },
  {
   "cell_type": "code",
   "execution_count": 162,
   "metadata": {},
   "outputs": [
    {
     "data": {
      "text/plain": [
       "[[-3.9202913, 5.43628339],\n",
       " [2.01738539, 6.37262296],\n",
       " [1.46328822, 6.84850675],\n",
       " [-3.88683688, 5.47272837],\n",
       " [3.00873893, 6.54960159]]"
      ]
     },
     "execution_count": 162,
     "metadata": {},
     "output_type": "execute_result"
    }
   ],
   "source": [
    "user_matrix"
   ]
  },
  {
   "cell_type": "markdown",
   "metadata": {},
   "source": [
    "Possible Answers: <strong>A preference for romance movies.</strong>"
   ]
  },
  {
   "cell_type": "markdown",
   "metadata": {},
   "source": [
    "## Information loss in factorization\n",
    "\n",
    "You may wonder how the factors with far fewer columns can summarize a larger DataFrame without loss. In fact, it doesn't — the factors we create are generally a close approximation of the data, as it is inevitable for some information to be lost. This means that predicted values might not be exact, but should be close enough to be useful.\n",
    "\n",
    "In this exercise, you will inspect the same original pre-factorization DataFrame from the last exercise loaded as original_df, and compare it to the product of its two factors, user_matrix and item_matrix."
   ]
  },
  {
   "cell_type": "code",
   "execution_count": 163,
   "metadata": {},
   "outputs": [],
   "source": [
    "item_matrix = [[-0.31315676,  0.27223577,  0.11236206, -0.6851852,   0.58797665],\n",
    " [ 0.53506273, -0.67846698,  0.34679691, -0.33676863,  0.14038957],\n",
    " [-0.58681644, -0.56753532,  0.01699735,  0.40147032,  0.41482863],\n",
    " [ 0.34689509,  0.37669009,  0.48522268,  0.50094181,  0.50138271]]"
   ]
  },
  {
   "cell_type": "code",
   "execution_count": 164,
   "metadata": {},
   "outputs": [],
   "source": [
    "user_matrix = [[-0.92214831,  0.46868881, -3.93546218,  6.20017019],\n",
    " [ 0.29451291,  1.1337195,   2.00684562,  7.52205181],\n",
    " [-0.23338272, -1.58223229,  1.42823577,  7.4428733 ],\n",
    " [ 0.93640606, -0.2676827,  -3.90282275,  6.23040608],\n",
    " [-0.07751554,  0.26188815,  2.99513239,  7.67609853]]"
   ]
  },
  {
   "cell_type": "code",
   "execution_count": 165,
   "metadata": {},
   "outputs": [
    {
     "name": "stdout",
     "output_type": "stream",
     "text": [
      "[[4.99975739 4.00002482 3.00049612 1.9999559  0.99971309]\n",
      " [1.94609518 1.00551231 4.11024369 3.99020215 4.93625285]\n",
      " [0.97027582 3.00303961 3.06079052 4.99459728 3.96484857]\n",
      " [4.01506891 4.99845908 2.96918167 1.00273896 2.01782031]\n",
      " [1.06960907 0.99288186 3.85763861 5.01265224 5.08231879]]\n",
      "        Alien  Scream  Love Actually  The Notebook\n",
      "user_1    5.0     4.0            2.0           1.0\n",
      "user_2    2.0     1.0            4.0           5.0\n",
      "user_3    1.0     3.0            5.0           4.0\n",
      "user_4    4.0     5.0            1.0           2.0\n",
      "user_5    1.0     1.0            5.0           5.0\n"
     ]
    }
   ],
   "source": [
    "import numpy as np\n",
    "\n",
    "# Multiply the user and item matrices\n",
    "predictions_df = np.dot(user_matrix, item_matrix)\n",
    "# Inspect the recreated DataFrame\n",
    "print(predictions_df)\n",
    "\n",
    "# Inspect the original DataFrame and compare\n",
    "print(original_df)"
   ]
  },
  {
   "cell_type": "markdown",
   "metadata": {},
   "source": [
    "# SVD"
   ]
  },
  {
   "cell_type": "markdown",
   "metadata": {},
   "source": [
    "## Normalize your data\n",
    "\n",
    "Before you can find the factors of the ratings matrix using singular value decomposition, you will need to \"de-mean\", or center it, by subtracting each row's mean from each value in that row.\n",
    "\n",
    "In this exercise, you will begin prepping the movie rating DataFrame you have been working with in order to be able to perform Singular value decomposition.\n",
    "\n",
    "user_ratings_df contains a row per user and a column for each movie and has been loaded for you."
   ]
  },
  {
   "cell_type": "code",
   "execution_count": 166,
   "metadata": {},
   "outputs": [
    {
     "name": "stdout",
     "output_type": "stream",
     "text": [
      "userId\n",
      "1      0.0\n",
      "2      0.0\n",
      "3      0.0\n",
      "4      0.0\n",
      "5      0.0\n",
      "      ... \n",
      "606    0.0\n",
      "607    0.0\n",
      "608    0.0\n",
      "609    0.0\n",
      "610    0.0\n",
      "Length: 610, dtype: float64\n"
     ]
    }
   ],
   "source": [
    "# Get the average rating for each user \n",
    "avg_ratings = user_ratings_df.mean(axis=1)\n",
    "\n",
    "# Center each user's ratings around 0\n",
    "user_ratings_centered = user_ratings_df.sub(avg_ratings, axis=1)\n",
    "\n",
    "# Fill in all missing values with 0s\n",
    "user_ratings_centered.fillna(0, inplace=True)\n",
    "\n",
    "# Print the mean of each column\n",
    "print(user_ratings_centered.mean(axis=1))"
   ]
  },
  {
   "cell_type": "markdown",
   "metadata": {},
   "source": [
    "## Decomposing your matrix\n",
    "\n",
    "Now that you have prepped your data by centering it and filling in the remaining empty values with 0, you can get around to finding your data's factors. In this exercise, you will break the user_ratings_centered data you generated in the last exercise into 3 factors: U, sigma, and Vt.\n",
    "\n",
    "U is a matrix with a row for each user\n",
    "Vt has a column for each movie\n",
    "sigma is an array of weights that you will need to convert to a diagonal matrix\n",
    "The user_ratings_centered that you created in the last lesson has been loaded for you."
   ]
  },
  {
   "cell_type": "code",
   "execution_count": 171,
   "metadata": {},
   "outputs": [
    {
     "name": "stdout",
     "output_type": "stream",
     "text": [
      "[[0. 0. 0. 0. 0. 0.]\n",
      " [0. 0. 0. 0. 0. 0.]\n",
      " [0. 0. 0. 0. 0. 0.]\n",
      " [0. 0. 0. 0. 0. 0.]\n",
      " [0. 0. 0. 0. 0. 0.]\n",
      " [0. 0. 0. 0. 0. 0.]]\n"
     ]
    }
   ],
   "source": [
    "# Import the required libraries \n",
    "from scipy.sparse.linalg import svds\n",
    "from scipy.linalg import sqrtm\n",
    "import numpy as np\n",
    "\n",
    "# Decompose the matrix\n",
    "U, sigma, Vt = svds(user_ratings_centered)\n",
    "\n",
    "# Convert sigma into a diagonal matrix\n",
    "sigma = np.diag(sigma)\n",
    "print(sigma)"
   ]
  },
  {
   "cell_type": "markdown",
   "metadata": {},
   "source": [
    "## Recalculating the matrix\n",
    "\n",
    "Now that you have your three factor matrices, you can multiply them back together to get complete ratings data without missing values. In this exercise, you will use numpy's dot product function to multiply U and sigma first, then the result by Vt. You will then be able add the average ratings for each row to find your final ratings.\n",
    "\n",
    "U, sigma, Vt, avg_ratings, and user_ratings_df from the previous exercise have been loaded for you. Also, numpy has been loaded as np. "
   ]
  },
  {
   "cell_type": "code",
   "execution_count": null,
   "metadata": {},
   "outputs": [],
   "source": [
    "# Dot product of U and sigma\n",
    "U_sigma = np.dot(U, sigma)\n",
    "\n",
    "# Dot product of result and Vt\n",
    "U_sigma_Vt = np.dot(U_sigma, Vt)\n",
    "\n",
    "# Add back on the row means contained in avg_ratings\n",
    "uncentered_ratings = U_sigma_Vt + avg_ratings.values.reshape(-1, 1)\n",
    "\n",
    "# Create DataFrame of the results\n",
    "calc_pred_ratings_df = pd.DataFrame(uncentered_ratings, \n",
    "                                    index=user_ratings_df.index,\n",
    "                                    columns=user_ratings_df.columns\n",
    "                                   )\n",
    "# Print both the recalculated matrix and the original \n",
    "print(calc_pred_ratings_df)\n",
    "#print(original_df)"
   ]
  },
  {
   "cell_type": "markdown",
   "metadata": {},
   "source": [
    "## Making recommendations with SVD\n",
    "\n",
    "Now that you have the recalculated matrix with all of its gaps filled in, the next step is to use it to generate predictions and recommendations.\n",
    "\n",
    "Using calc_pred_ratings_df that you generated in the last exercise, with all rows and columns filled, find the movies that User_5 is most likely to enjoy."
   ]
  },
  {
   "cell_type": "code",
   "execution_count": 169,
   "metadata": {},
   "outputs": [],
   "source": [
    "# Sort the ratings of User 5 from high to low\n",
    "user_5_ratings = calc_pred_ratings_df.loc['User_5',:].sort_values(ascending=False)\n",
    "\n",
    "print(user_5_ratings)"
   ]
  },
  {
   "cell_type": "markdown",
   "metadata": {},
   "source": [
    "## Comparing recommendation methods\n",
    "\n",
    "In this course, you have predicted how you believe a user would rate movies they have not seen using multiple different methods (basic average ratings, KNN, matrix factorization). In this final exercise, you'll work through a comparison of the averaged ratings and matrix factorization using the mean_squared_error() as the measure of how well they are performing. The predictions based on averages have been loaded as avg_pred_ratings_df while the calculated predictions have been loaded as calc_pred_ratings_df. The ground truth values have been loaded as act_ratings_df.\n",
    "\n",
    "Finally, the mean_squared_error() function has been imported for your use from sklearn.metrics."
   ]
  },
  {
   "cell_type": "code",
   "execution_count": null,
   "metadata": {},
   "outputs": [],
   "source": [
    "# Extract the ground truth to compare your predictions against\n",
    "actual_values = act_ratings_df.iloc[:20, :100].values\n",
    "avg_values = avg_pred_ratings_df.iloc[:20, :100].values\n",
    "predicted_values = calc_pred_ratings_df.iloc[:20, :100].values\n",
    "\n",
    "# Create a mask of actual_values to only look at the non-missing values in the ground truth\n",
    "mask = ~np.isnan(actual_values)\n",
    "\n",
    "# Print the performance of both predictions and compare\n",
    "print(mean_square_error(actual_values[mask], avg_values[mask], squared=False))\n",
    "print(mean_square_error(mean_square_error[mask], predicted_values[mask], squared=False))"
   ]
  },
  {
   "cell_type": "code",
   "execution_count": null,
   "metadata": {},
   "outputs": [],
   "source": []
  }
 ],
 "metadata": {
  "kernelspec": {
   "display_name": "Python 3",
   "language": "python",
   "name": "python3"
  },
  "language_info": {
   "codemirror_mode": {
    "name": "ipython",
    "version": 3
   },
   "file_extension": ".py",
   "mimetype": "text/x-python",
   "name": "python",
   "nbconvert_exporter": "python",
   "pygments_lexer": "ipython3",
   "version": "3.7.6"
  }
 },
 "nbformat": 4,
 "nbformat_minor": 4
}
